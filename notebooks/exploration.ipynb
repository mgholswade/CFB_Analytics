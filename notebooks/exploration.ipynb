{
 "cells": [
  {
   "cell_type": "markdown",
   "metadata": {},
   "source": [
    "# Overview\n",
    "Based off of https://gist.github.com/GJMcClintock/29330e26f674d4103c4f7080212a9208"
   ]
  },
  {
   "cell_type": "code",
   "execution_count": 2,
   "metadata": {},
   "outputs": [],
   "source": [
    "#packages\n",
    "import pandas as pd\n",
    "import cfbd\n",
    "import webcolors as wc\n",
    "import numpy as np\n",
    "import yaml\n",
    "import matplotlib.pyplot as plt"
   ]
  },
  {
   "cell_type": "code",
   "execution_count": 3,
   "metadata": {},
   "outputs": [],
   "source": [
    "\n",
    "with open(\"/home/mholswade/Documents/projects/CFB_Analytics/notebooks/api.yml\", \"r\") as stream:\n",
    "    try:\n",
    "        config = yaml.safe_load(stream)\n",
    "    except yaml.YAMLError as exc:\n",
    "        print(exc)"
   ]
  },
  {
   "cell_type": "code",
   "execution_count": 4,
   "metadata": {},
   "outputs": [],
   "source": [
    "\n",
    "configuration = cfbd.Configuration()\n",
    "configuration.api_key['Authorization'] = config['api']\n",
    "configuration.api_key_prefix['Authorization'] = 'Bearer'\n"
   ]
  },
  {
   "cell_type": "code",
   "execution_count": 7,
   "metadata": {},
   "outputs": [],
   "source": [
    "#Pull all game data for 2019 season, move into dataframe\n",
    "api_instance = cfbd.GamesApi(cfbd.ApiClient(configuration))\n",
    "games = api_instance.get_games(year=2021)\n",
    "\n",
    "games_df = pd.DataFrame.from_records([g.to_dict() for g in games])\n",
    "games_df.head()\n",
    "\n",
    "games_df.columns\n",
    "\n",
    "games_df.to_csv('/home/mholswade/Documents/projects/CFB_Analytics/data/games_mod.csv')"
   ]
  },
  {
   "cell_type": "code",
   "execution_count": 6,
   "metadata": {},
   "outputs": [],
   "source": [
    "teams_api = cfbd.TeamsApi(cfbd.ApiClient(configuration))\n",
    "teams = teams_api.get_fbs_teams()\n",
    "teams_df = pd.DataFrame.from_records([dict(id=t.id,team=t.school, color=t.color, alt_color=t.alt_color,location=t.location) for t in teams])\n",
    "teams_df.head()\n",
    "\n",
    "teams_df.to_csv('/home/mholswade/Documents/projects/CFB_Analytics/data/team_colors_mod.csv')"
   ]
  },
  {
   "cell_type": "code",
   "execution_count": null,
   "metadata": {},
   "outputs": [],
   "source": [
    "#teams_df.to_csv('/home/mholswade/Documents/projects/CFB_Analytics/data/team_colors_mod.csv')"
   ]
  },
  {
   "cell_type": "code",
   "execution_count": null,
   "metadata": {},
   "outputs": [],
   "source": [
    "type(teams_df.loc[1]['location'])"
   ]
  },
  {
   "cell_type": "code",
   "execution_count": null,
   "metadata": {},
   "outputs": [],
   "source": [
    "# #Functions from https://stackoverflow.com/questions/44354437/classify-users-by-colors\n",
    "# def get_approx_color(hex_color):\n",
    "#     orig = wc.hex_to_rgb(hex_color)\n",
    "#     similarity = {}\n",
    "#     for hex_code, color_name in wc.hex_to_name.items():\n",
    "#         approx = wc.hex_to_rgb(hex_code)\n",
    "#         similarity[color_name] = sum(np.subtract(orig, approx) ** 2)\n",
    "#     return min(similarity, key=similarity.get)\n",
    "\n",
    "# def get_color_name(hex_color):\n",
    "#     try:\n",
    "#         return wc.hex_to_name(hex_color)\n",
    "#     except ValueError:\n",
    "#         return get_approx_color(hex_color)\n",
    "\n",
    "# print(get_color_name(u\"#F5ABB5\"))\n",
    "# # lightpink\n",
    "\n",
    "# for i in range(0,len(teams_df)):\n",
    "#     teams_df.loc[i]['color_name'] = get_color_name(teams_df.loc[i]['color'])"
   ]
  },
  {
   "cell_type": "code",
   "execution_count": null,
   "metadata": {},
   "outputs": [],
   "source": [
    "teams_df = pd.read_csv('/home/mholswade/Documents/projects/CFB_Analytics/data/team_colors.csv')\n",
    "plt.hist(teams_df['color_name'])\n",
    "teams_df['color_name'].unique"
   ]
  },
  {
   "cell_type": "code",
   "execution_count": null,
   "metadata": {},
   "outputs": [],
   "source": [
    "teams_df.head()"
   ]
  },
  {
   "cell_type": "code",
   "execution_count": null,
   "metadata": {},
   "outputs": [],
   "source": [
    "type(teams_df.loc[1]['location'])\n",
    "teams_df.loc[1]['venue_id'] = teams_df.loc[1]['location']['venue_id']\n"
   ]
  },
  {
   "cell_type": "code",
   "execution_count": null,
   "metadata": {},
   "outputs": [],
   "source": [
    "for key in teams_df.loc[i]['location'].keys():\n",
    " teams_df[key] = ''\n",
    "\n",
    "\n",
    "for i in range(0,len(teams_df)):\n",
    "    for key in teams_df.loc[i]['location'].keys():\n",
    "        print(key)\n",
    "        teams_df.loc[i][key] = teams_df.loc[i]['location'][key]\n",
    "\n"
   ]
  },
  {
   "cell_type": "code",
   "execution_count": null,
   "metadata": {},
   "outputs": [],
   "source": [
    "conf_games"
   ]
  }
 ],
 "metadata": {
  "interpreter": {
   "hash": "e89fe6ab514590075468f51de556798f36839a2d00cff42d1fdb5927b9b32362"
  },
  "kernelspec": {
   "display_name": "Python 3.9.5 64-bit ('base': conda)",
   "name": "python3"
  },
  "language_info": {
   "codemirror_mode": {
    "name": "ipython",
    "version": 3
   },
   "file_extension": ".py",
   "mimetype": "text/x-python",
   "name": "python",
   "nbconvert_exporter": "python",
   "pygments_lexer": "ipython3",
   "version": "3.9.5"
  },
  "orig_nbformat": 4
 },
 "nbformat": 4,
 "nbformat_minor": 2
}
